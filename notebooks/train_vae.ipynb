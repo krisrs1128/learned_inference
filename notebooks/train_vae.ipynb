{
 "cells": [
  {
   "cell_type": "code",
   "execution_count": null,
   "metadata": {},
   "outputs": [],
   "source": [
    "#data_dir = pathlib.Path(os.environ[\"DATA_DIR\"])\n",
    "# root_dir = pathlib.Path(os.environ[\"ROOT_DIR\"])\n",
    "data_dir = pathlib.Path(\"/Users/kris/Documents/stability_data/\")\n",
    "root_dir = pathlib.Path(\"/Users/kris/Desktop/conceptual/learned_inference/\")\n",
    "opts = Dict(yaml.safe_load(open(root_dir / \"conf/train.yaml\", \"r\")))\n",
    "\n",
    "out_dir = data_dir / opts.organization.out_dir / str(args.boot)\n",
    "os.makedirs(out_dir, exist_ok=True)\n",
    "writer = SummaryWriter(out_dir / \"logs\")\n",
    "writer.add_text(\"conf\", json.dumps(opts))"
   ]
  },
  {
   "cell_type": "code",
   "execution_count": null,
   "metadata": {},
   "outputs": [],
   "source": [
    "# Setup model\n",
    "model = VAE(z_dim=opts.train.z_dim)\n",
    "optim = torch.optim.Adam(model.parameters(), lr=opts.train.lr)\n",
    "if opts.train.checkpoint is not None:\n",
    "    model.load_checkpoint(data_dir / opts.train.checkpoint)\n",
    "\n",
    "# train\n",
    "cell_data = CellDataset(\n",
    "    data_dir / opts.organization.train_dir,\n",
    "    data_dir / opts.organization.xy\n",
    ")\n",
    "train_loader = DataLoader(cell_data, batch_size=opts.train.batch_size)\n",
    "train(model, optim, train_loader, opts, out_dir, writer)\n"
   ]
  }
 ],
 "metadata": {
  "kernelspec": {
   "display_name": "li2",
   "language": "python",
   "name": "li2"
  },
  "language_info": {
   "codemirror_mode": {
    "name": "ipython",
    "version": 3
   },
   "file_extension": ".py",
   "mimetype": "text/x-python",
   "name": "python",
   "nbconvert_exporter": "python",
   "pygments_lexer": "ipython3",
   "version": "3.7.3"
  }
 },
 "nbformat": 4,
 "nbformat_minor": 4
}
