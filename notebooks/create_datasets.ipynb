{
 "cells": [
  {
   "cell_type": "code",
   "execution_count": null,
   "metadata": {},
   "outputs": [],
   "source": [
    "import stability.data as sd\n",
    "import stability.bootstrap as sb\n",
    "import pathlib\n",
    "import pandas as pd\n",
    "import os\n",
    "from addict import Dict\n",
    "import yaml"
   ]
  },
  {
   "cell_type": "code",
   "execution_count": null,
   "metadata": {},
   "outputs": [],
   "source": [
    "#data_dir = pathlib.Path(os.environ[\"DATA_DIR\"])\n",
    "# root_dir = pathlib.Path(os.environ[\"ROOT_DIR\"])\n",
    "data_dir = pathlib.Path(\"/Users/kris/Documents/stability_data/\")\n",
    "root_dir = pathlib.Path(\"/Users/kris/Desktop/conceptual/learned_inference/\")\n",
    "sd.convert_dir_numpy(data_dir / \"tiles\", data_dir / \"npys\")\n",
    "sd.save_pngs(data_dir / \"npys\", data_dir / \"pngs\")\n",
    "paths = list((data_dir / \"npys\").glob(\"*.npy\"))\n",
    "splits = sd.random_split(paths, [0.8, .1, .1])\n",
    "splits_df = sd.reshuffle(splits, data_dir)"
   ]
  },
  {
   "cell_type": "markdown",
   "metadata": {},
   "source": [
    "Next, we save the paths to the train / splits, as well as a master file of all the resampling plans associated with each bootstrap."
   ]
  },
  {
   "cell_type": "code",
   "execution_count": null,
   "metadata": {},
   "outputs": [],
   "source": [
    "opts = Dict(yaml.safe_load(open(root_dir / \"conf/train.yaml\", \"r\")))\n",
    "splits_df.to_csv(data_dir / opts.organization.splits, index=False)\n",
    "sb.bootstrap_indices(len(splits[\"train\"]), opts.bootstrap.B, data_dir / opts.bootstrap.path)"
   ]
  },
  {
   "cell_type": "code",
   "execution_count": null,
   "metadata": {},
   "outputs": [],
   "source": []
  }
 ],
 "metadata": {
  "kernelspec": {
   "display_name": "li2",
   "language": "python",
   "name": "li2"
  },
  "language_info": {
   "codemirror_mode": {
    "name": "ipython",
    "version": 3
   },
   "file_extension": ".py",
   "mimetype": "text/x-python",
   "name": "python",
   "nbconvert_exporter": "python",
   "pygments_lexer": "ipython3",
   "version": "3.7.3"
  },
  "name": "Untitled.ipynb"
 },
 "nbformat": 4,
 "nbformat_minor": 4
}
