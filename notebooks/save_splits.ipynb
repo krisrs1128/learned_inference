{
 "cells": [
  {
   "cell_type": "code",
   "execution_count": 1,
   "metadata": {},
   "outputs": [],
   "source": [
    "import stability.data as sd\n",
    "import stability.bootstrap as sb\n",
    "import pathlib\n",
    "import pandas as pd\n",
    "import os\n",
    "from addict import Dict\n",
    "import yaml"
   ]
  },
  {
   "cell_type": "code",
   "execution_count": 2,
   "metadata": {},
   "outputs": [],
   "source": [
    "def save_splits(paths, props):\n",
    "    splits = sd.random_split(paths, props)\n",
    "    p_str = str(sum(props[:2]))\n",
    "    splits.to_csv(data_dir / f\"splits_{p_str}-train.csv\", index=False)\n",
    "    sb.bootstrap_indices(len(splits.loc[splits[\"split\"] == \"train\", \"path\"]), opts.bootstrap.B, data_dir / f\"bootstraps_{p_str}-train.csv\")"
   ]
  },
  {
   "cell_type": "code",
   "execution_count": null,
   "metadata": {},
   "outputs": [],
   "source": [
    "data_dir = pathlib.Path(os.environ[\"DATA_DIR\"])\n",
    "root_dir = pathlib.Path(os.environ[\"ROOT_DIR\"])\n",
    "sd.save_pngs(data_dir / \"tiles\", data_dir / \"pngs\")\n",
    "paths = list((data_dir / \"tiles\").glob(\"*.npy\"))\n",
    "paths = [p.relative_to(data_dir) for p in paths]"
   ]
  },
  {
   "cell_type": "markdown",
   "metadata": {},
   "source": [
    "Next, we save the paths to the train / splits, as well as a master file of all the resampling plans associated with each bootstrap."
   ]
  },
  {
   "cell_type": "code",
   "execution_count": null,
   "metadata": {},
   "outputs": [],
   "source": [
    "opts = Dict(yaml.safe_load(open(root_dir / \"conf/train_cnn.yaml\", \"r\")))\n",
    "\n",
    "split_choices = [\n",
    "    [0.8, 0.1, 0.1],\n",
    "    [0.1, 0.05, 0.85],\n",
    "    [0.4, 0.1, 0.5]\n",
    "]\n",
    "\n",
    "for p in split_choices:\n",
    "    save_splits(paths, p)"
   ]
  }
 ],
 "metadata": {
  "kernelspec": {
   "display_name": "li2",
   "language": "python",
   "name": "li2"
  },
  "language_info": {
   "codemirror_mode": {
    "name": "ipython",
    "version": 3
   },
   "file_extension": ".py",
   "mimetype": "text/x-python",
   "name": "python",
   "nbconvert_exporter": "python",
   "pygments_lexer": "ipython3",
   "version": "3.7.3"
  },
  "name": "Untitled.ipynb"
 },
 "nbformat": 4,
 "nbformat_minor": 4
}
