{
 "cells": [
  {
   "cell_type": "code",
   "execution_count": 1,
   "metadata": {},
   "outputs": [],
   "source": [
    "import os\n",
    "import pandas as pd\n",
    "import numpy as np\n",
    "from pathlib import Path\n",
    "from stability.data import random_split"
   ]
  },
  {
   "cell_type": "markdown",
   "metadata": {},
   "source": [
    "First, we need to list all the tiles. We also read in the `y.csv` files, because they have a column describing which subject each patch came from (we could do string manipulation on the paths, but having an index file is more reliable)."
   ]
  },
  {
   "cell_type": "code",
   "execution_count": 2,
   "metadata": {},
   "outputs": [],
   "source": [
    "data_dir = Path(os.environ[\"DATA_DIR\"]) / \"tnbc\"\n",
    "\n",
    "paths = {\n",
    "    \"tile\": Path(data_dir).glob(\"**/*npy\"),\n",
    "    \"y\": Path(data_dir).glob(\"**/y*csv\")\n",
    "}\n",
    "\n",
    "y = []\n",
    "for p in paths[\"y\"]:\n",
    "    y.append(pd.read_csv(p))"
   ]
  },
  {
   "cell_type": "markdown",
   "metadata": {},
   "source": [
    "Now, we can generate the split across participants and link the assignments back to the tiles associated with them. The resulting splits are saved in `split.csv` in the `tnbc` subdirectory."
   ]
  },
  {
   "cell_type": "code",
   "execution_count": 3,
   "metadata": {},
   "outputs": [],
   "source": [
    "y_df = pd.concat(y)\n",
    "subjects = y_df[\"i\"].unique()\n",
    "\n",
    "split = random_split(subjects, [0.7, 0.1, 0.2])\n",
    "split.columns = [\"i\", \"split\"]\n",
    "split = pd.merge(y_df[[\"i\", \"w\", \"h\", \"y\"]], split)\n",
    "split[\"rel_path\"] = split.apply(lambda r: f\"tnbc/tiles/{r.i}_{str(r.w)}-{str(r.h)}.npy\", axis=1)\n",
    "split.to_csv(data_dir / \"split.csv\")"
   ]
  },
  {
   "cell_type": "markdown",
   "metadata": {},
   "source": [
    "For reference, some example rows from this file are,"
   ]
  },
  {
   "cell_type": "code",
   "execution_count": 4,
   "metadata": {},
   "outputs": [
    {
     "data": {
      "text/html": [
       "<div>\n",
       "<style scoped>\n",
       "    .dataframe tbody tr th:only-of-type {\n",
       "        vertical-align: middle;\n",
       "    }\n",
       "\n",
       "    .dataframe tbody tr th {\n",
       "        vertical-align: top;\n",
       "    }\n",
       "\n",
       "    .dataframe thead th {\n",
       "        text-align: right;\n",
       "    }\n",
       "</style>\n",
       "<table border=\"1\" class=\"dataframe\">\n",
       "  <thead>\n",
       "    <tr style=\"text-align: right;\">\n",
       "      <th></th>\n",
       "      <th>i</th>\n",
       "      <th>w</th>\n",
       "      <th>h</th>\n",
       "      <th>y</th>\n",
       "      <th>split</th>\n",
       "      <th>rel_path</th>\n",
       "    </tr>\n",
       "  </thead>\n",
       "  <tbody>\n",
       "    <tr>\n",
       "      <th>0</th>\n",
       "      <td>p9</td>\n",
       "      <td>0</td>\n",
       "      <td>0</td>\n",
       "      <td>5.392317</td>\n",
       "      <td>test</td>\n",
       "      <td>tnbc/tiles/p9_0-0.npy</td>\n",
       "    </tr>\n",
       "    <tr>\n",
       "      <th>1</th>\n",
       "      <td>p9</td>\n",
       "      <td>128</td>\n",
       "      <td>0</td>\n",
       "      <td>2.784271</td>\n",
       "      <td>test</td>\n",
       "      <td>tnbc/tiles/p9_128-0.npy</td>\n",
       "    </tr>\n",
       "    <tr>\n",
       "      <th>2</th>\n",
       "      <td>p9</td>\n",
       "      <td>256</td>\n",
       "      <td>0</td>\n",
       "      <td>1.538420</td>\n",
       "      <td>test</td>\n",
       "      <td>tnbc/tiles/p9_256-0.npy</td>\n",
       "    </tr>\n",
       "  </tbody>\n",
       "</table>\n",
       "</div>"
      ],
      "text/plain": [
       "    i    w  h         y split                 rel_path\n",
       "0  p9    0  0  5.392317  test    tnbc/tiles/p9_0-0.npy\n",
       "1  p9  128  0  2.784271  test  tnbc/tiles/p9_128-0.npy\n",
       "2  p9  256  0  1.538420  test  tnbc/tiles/p9_256-0.npy"
      ]
     },
     "execution_count": 4,
     "metadata": {},
     "output_type": "execute_result"
    }
   ],
   "source": [
    "split[:3]"
   ]
  },
  {
   "cell_type": "code",
   "execution_count": null,
   "metadata": {},
   "outputs": [],
   "source": []
  }
 ],
 "metadata": {
  "kernelspec": {
   "display_name": "li2",
   "language": "python",
   "name": "li2"
  },
  "language_info": {
   "codemirror_mode": {
    "name": "ipython",
    "version": 3
   },
   "file_extension": ".py",
   "mimetype": "text/x-python",
   "name": "python",
   "nbconvert_exporter": "python",
   "pygments_lexer": "ipython3",
   "version": "3.7.3"
  }
 },
 "nbformat": 4,
 "nbformat_minor": 4
}
