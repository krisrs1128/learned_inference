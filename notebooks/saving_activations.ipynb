{
 "cells": [
  {
   "cell_type": "code",
   "execution_count": null,
   "metadata": {},
   "outputs": [],
   "source": [
    "import pandas as pd\n",
    "import pathlib\n",
    "from addict import Dict\n",
    "import yaml\n",
    "from stability.data import CellDataset\n",
    "import numpy as np\n",
    "import stability.features as sf\n",
    "from stability.models.vae import VAE\n",
    "import stability.train as st\n",
    "import torch\n",
    "import torch.optim\n",
    "from torch.utils.data import DataLoader"
   ]
  },
  {
   "cell_type": "code",
   "execution_count": null,
   "metadata": {},
   "outputs": [],
   "source": [
    "#data_dir = pathlib.Path(os.environ[\"DATA_DIR\"])\n",
    "# root_dir = pathlib.Path(os.environ[\"ROOT_DIR\"])\n",
    "data_dir = pathlib.Path(\"/Users/kris/Documents/stability_data/\")\n",
    "root_dir = pathlib.Path(\"/Users/kris/Desktop/conceptual/learned_inference/\")\n",
    "opts = Dict(yaml.safe_load(open(root_dir / \"conf/train.yaml\", \"r\")))\n"
   ]
  },
  {
   "cell_type": "code",
   "execution_count": null,
   "metadata": {},
   "outputs": [],
   "source": [
    "splits = pd.read_csv(data_dir / opts.organization.splits)\n",
    "resample_ix = pd.read_csv(data_dir / opts.bootstrap.path)\n",
    "train_paths = splits.loc[splits.split == \"train\", \"path\"].values"
   ]
  },
  {
   "cell_type": "code",
   "execution_count": null,
   "metadata": {},
   "outputs": [],
   "source": [
    "# Setup model\n",
    "model = VAE(z_dim=opts.train.z_dim)\n",
    "optim = torch.optim.Adam(model.parameters(), lr=opts.train.lr)\n",
    "\n",
    "# train\n",
    "# you're going to need to match the y-value... probably read the original and match\n",
    "cell_boot = CellDataset(train_paths[resample_ix.loc[0]], data_dir / opts.organization.xy)\n",
    "cell_ft = CellDataset(train_paths, data_dir / opts.organization.xy)\n",
    "\n",
    "train_loader = DataLoader(cell_boot, batch_size=opts.train.batch_size, shuffle=True)\n",
    "ft_loader = DataLoader(cell_ft, batch_size=opts.train.batch_size, shuffle=False)\n",
    "\n",
    "h = sf.save_features(ft_loader, model, 0, \"tmp\")\n",
    "#np.save(\"/Users/kris/Desktop/test.npy\", h[\"layer_1\"].numpy())"
   ]
  },
  {
   "cell_type": "code",
   "execution_count": null,
   "metadata": {},
   "outputs": [],
   "source": []
  }
 ],
 "metadata": {
  "kernelspec": {
   "display_name": "li2",
   "language": "python",
   "name": "li2"
  },
  "language_info": {
   "codemirror_mode": {
    "name": "ipython",
    "version": 3
   },
   "file_extension": ".py",
   "mimetype": "text/x-python",
   "name": "python",
   "nbconvert_exporter": "python",
   "pygments_lexer": "ipython3",
   "version": "3.7.3"
  }
 },
 "nbformat": 4,
 "nbformat_minor": 4
}
